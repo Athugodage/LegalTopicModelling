{
 "cells": [
  {
   "cell_type": "code",
   "execution_count": 9,
   "id": "eef76628",
   "metadata": {},
   "outputs": [
    {
     "name": "stdout",
     "output_type": "stream",
     "text": [
      "Requirement already satisfied: spacy in c:\\conda\\lib\\site-packages (3.3.2)"
     ]
    },
    {
     "name": "stderr",
     "output_type": "stream",
     "text": [
      "WARNING: Ignoring invalid distribution -atplotlib (c:\\conda\\lib\\site-packages)\n",
      "WARNING: Ignoring invalid distribution -atplotlib (c:\\conda\\lib\\site-packages)\n",
      "WARNING: Ignoring invalid distribution -atplotlib (c:\\conda\\lib\\site-packages)\n",
      "WARNING: Ignoring invalid distribution -atplotlib (c:\\conda\\lib\\site-packages)\n",
      "WARNING: Ignoring invalid distribution -atplotlib (c:\\conda\\lib\\site-packages)\n",
      "WARNING: Ignoring invalid distribution -atplotlib (c:\\conda\\lib\\site-packages)\n",
      "\n",
      "[notice] A new release of pip is available: 23.0 -> 23.0.1\n",
      "[notice] To update, run: python.exe -m pip install --upgrade pip\n"
     ]
    },
    {
     "name": "stdout",
     "output_type": "stream",
     "text": [
      "\n",
      "Requirement already satisfied: wasabi<1.1.0,>=0.9.1 in c:\\conda\\lib\\site-packages (from spacy) (0.9.1)\n",
      "Requirement already satisfied: catalogue<2.1.0,>=2.0.6 in c:\\conda\\lib\\site-packages (from spacy) (2.0.7)\n",
      "Requirement already satisfied: preshed<3.1.0,>=3.0.2 in c:\\conda\\lib\\site-packages (from spacy) (3.0.6)\n",
      "Requirement already satisfied: spacy-legacy<3.1.0,>=3.0.9 in c:\\conda\\lib\\site-packages (from spacy) (3.0.12)\n",
      "Requirement already satisfied: tqdm<5.0.0,>=4.38.0 in c:\\conda\\lib\\site-packages (from spacy) (4.64.0)\n",
      "Requirement already satisfied: langcodes<4.0.0,>=3.2.0 in c:\\conda\\lib\\site-packages (from spacy) (3.3.0)\n",
      "Requirement already satisfied: spacy-loggers<2.0.0,>=1.0.0 in c:\\conda\\lib\\site-packages (from spacy) (1.0.2)\n",
      "Requirement already satisfied: setuptools in c:\\conda\\lib\\site-packages (from spacy) (62.3.2)\n",
      "Requirement already satisfied: packaging>=20.0 in c:\\users\\марк\\appdata\\roaming\\python\\python38\\site-packages (from spacy) (23.0)\n",
      "Requirement already satisfied: blis<0.8.0,>=0.4.0 in c:\\conda\\lib\\site-packages (from spacy) (0.7.9)\n",
      "Requirement already satisfied: pathy>=0.3.5 in c:\\conda\\lib\\site-packages (from spacy) (0.10.1)\n",
      "Requirement already satisfied: jinja2 in c:\\conda\\lib\\site-packages (from spacy) (2.11.3)\n",
      "Requirement already satisfied: smart-open<7.0.0,>=5.2.1 in c:\\conda\\lib\\site-packages (from spacy) (5.2.1)\n",
      "Requirement already satisfied: srsly<3.0.0,>=2.4.3 in c:\\conda\\lib\\site-packages (from spacy) (2.4.3)\n",
      "Requirement already satisfied: thinc<8.1.0,>=8.0.14 in c:\\conda\\lib\\site-packages (from spacy) (8.0.17)\n",
      "Requirement already satisfied: pydantic!=1.8,!=1.8.1,<1.9.0,>=1.7.4 in c:\\conda\\lib\\site-packages (from spacy) (1.8.2)\n",
      "Requirement already satisfied: requests<3.0.0,>=2.13.0 in c:\\users\\марк\\appdata\\roaming\\python\\python38\\site-packages (from spacy) (2.28.2)\n",
      "Requirement already satisfied: numpy>=1.15.0 in c:\\conda\\lib\\site-packages (from spacy) (1.22.4)\n",
      "Requirement already satisfied: cymem<2.1.0,>=2.0.2 in c:\\conda\\lib\\site-packages (from spacy) (2.0.6)\n",
      "Requirement already satisfied: murmurhash<1.1.0,>=0.28.0 in c:\\conda\\lib\\site-packages (from spacy) (1.0.6)\n",
      "Requirement already satisfied: typer<0.5.0,>=0.3.0 in c:\\conda\\lib\\site-packages (from spacy) (0.4.1)\n",
      "Requirement already satisfied: typing-extensions>=3.7.4.3 in c:\\conda\\lib\\site-packages (from pydantic!=1.8,!=1.8.1,<1.9.0,>=1.7.4->spacy) (3.10.0.2)\n",
      "Requirement already satisfied: idna<4,>=2.5 in c:\\conda\\lib\\site-packages (from requests<3.0.0,>=2.13.0->spacy) (2.10)\n",
      "Requirement already satisfied: charset-normalizer<4,>=2 in c:\\conda\\lib\\site-packages (from requests<3.0.0,>=2.13.0->spacy) (2.0.12)\n",
      "Requirement already satisfied: urllib3<1.27,>=1.21.1 in c:\\conda\\lib\\site-packages (from requests<3.0.0,>=2.13.0->spacy) (1.26.14)\n",
      "Requirement already satisfied: certifi>=2017.4.17 in c:\\conda\\lib\\site-packages (from requests<3.0.0,>=2.13.0->spacy) (2020.12.5)\n",
      "Requirement already satisfied: colorama in c:\\conda\\lib\\site-packages (from tqdm<5.0.0,>=4.38.0->spacy) (0.4.4)\n",
      "Requirement already satisfied: click<9.0.0,>=7.1.1 in c:\\conda\\lib\\site-packages (from typer<0.5.0,>=0.3.0->spacy) (7.1.2)\n",
      "Requirement already satisfied: MarkupSafe>=0.23 in c:\\conda\\lib\\site-packages (from jinja2->spacy) (1.1.1)\n"
     ]
    }
   ],
   "source": [
    "!pip install spacy"
   ]
  },
  {
   "cell_type": "code",
   "execution_count": 10,
   "id": "3731706d",
   "metadata": {},
   "outputs": [
    {
     "name": "stdout",
     "output_type": "stream",
     "text": [
      "Collecting ru-core-news-sm==3.3.0\n",
      "  Downloading https://github.com/explosion/spacy-models/releases/download/ru_core_news_sm-3.3.0/ru_core_news_sm-3.3.0-py3-none-any.whl (15.3 MB)\n",
      "     ---------------------------------------- 15.3/15.3 MB 7.1 MB/s eta 0:00:00\n",
      "Requirement already satisfied: spacy<3.4.0,>=3.3.0.dev0 in c:\\conda\\lib\\site-packages (from ru-core-news-sm==3.3.0) (3.3.2)\n",
      "Requirement already satisfied: pymorphy2>=0.9 in c:\\conda\\lib\\site-packages (from ru-core-news-sm==3.3.0) (0.9.1)\n",
      "Requirement already satisfied: docopt>=0.6 in c:\\conda\\lib\\site-packages (from pymorphy2>=0.9->ru-core-news-sm==3.3.0) (0.6.2)\n",
      "Requirement already satisfied: dawg-python>=0.7.1 in c:\\conda\\lib\\site-packages (from pymorphy2>=0.9->ru-core-news-sm==3.3.0) (0.7.2)\n",
      "Requirement already satisfied: pymorphy2-dicts-ru<3.0,>=2.4 in c:\\conda\\lib\\site-packages (from pymorphy2>=0.9->ru-core-news-sm==3.3.0) (2.4.417127.4579844)\n",
      "Requirement already satisfied: smart-open<7.0.0,>=5.2.1 in c:\\conda\\lib\\site-packages (from spacy<3.4.0,>=3.3.0.dev0->ru-core-news-sm==3.3.0) (5.2.1)\n",
      "Requirement already satisfied: spacy-loggers<2.0.0,>=1.0.0 in c:\\conda\\lib\\site-packages (from spacy<3.4.0,>=3.3.0.dev0->ru-core-news-sm==3.3.0) (1.0.2)\n",
      "Requirement already satisfied: cymem<2.1.0,>=2.0.2 in c:\\conda\\lib\\site-packages (from spacy<3.4.0,>=3.3.0.dev0->ru-core-news-sm==3.3.0) (2.0.6)\n",
      "Requirement already satisfied: requests<3.0.0,>=2.13.0 in c:\\users\\марк\\appdata\\roaming\\python\\python38\\site-packages (from spacy<3.4.0,>=3.3.0.dev0->ru-core-news-sm==3.3.0) (2.28.2)\n",
      "Requirement already satisfied: preshed<3.1.0,>=3.0.2 in c:\\conda\\lib\\site-packages (from spacy<3.4.0,>=3.3.0.dev0->ru-core-news-sm==3.3.0) (3.0.6)\n",
      "Requirement already satisfied: setuptools in c:\\conda\\lib\\site-packages (from spacy<3.4.0,>=3.3.0.dev0->ru-core-news-sm==3.3.0) (62.3.2)\n",
      "Requirement already satisfied: thinc<8.1.0,>=8.0.14 in c:\\conda\\lib\\site-packages (from spacy<3.4.0,>=3.3.0.dev0->ru-core-news-sm==3.3.0) (8.0.17)\n",
      "Requirement already satisfied: packaging>=20.0 in c:\\users\\марк\\appdata\\roaming\\python\\python38\\site-packages (from spacy<3.4.0,>=3.3.0.dev0->ru-core-news-sm==3.3.0) (23.0)\n",
      "Requirement already satisfied: blis<0.8.0,>=0.4.0 in c:\\conda\\lib\\site-packages (from spacy<3.4.0,>=3.3.0.dev0->ru-core-news-sm==3.3.0) (0.7.9)\n",
      "Requirement already satisfied: catalogue<2.1.0,>=2.0.6 in c:\\conda\\lib\\site-packages (from spacy<3.4.0,>=3.3.0.dev0->ru-core-news-sm==3.3.0) (2.0.7)\n",
      "Requirement already satisfied: numpy>=1.15.0 in c:\\conda\\lib\\site-packages (from spacy<3.4.0,>=3.3.0.dev0->ru-core-news-sm==3.3.0) (1.22.4)\n",
      "Requirement already satisfied: langcodes<4.0.0,>=3.2.0 in c:\\conda\\lib\\site-packages (from spacy<3.4.0,>=3.3.0.dev0->ru-core-news-sm==3.3.0) (3.3.0)\n",
      "Requirement already satisfied: pathy>=0.3.5 in c:\\conda\\lib\\site-packages (from spacy<3.4.0,>=3.3.0.dev0->ru-core-news-sm==3.3.0) (0.10.1)\n",
      "Requirement already satisfied: spacy-legacy<3.1.0,>=3.0.9 in c:\\conda\\lib\\site-packages (from spacy<3.4.0,>=3.3.0.dev0->ru-core-news-sm==3.3.0) (3.0.12)\n",
      "Requirement already satisfied: jinja2 in c:\\conda\\lib\\site-packages (from spacy<3.4.0,>=3.3.0.dev0->ru-core-news-sm==3.3.0) (2.11.3)\n",
      "Requirement already satisfied: tqdm<5.0.0,>=4.38.0 in c:\\conda\\lib\\site-packages (from spacy<3.4.0,>=3.3.0.dev0->ru-core-news-sm==3.3.0) (4.64.0)\n",
      "Requirement already satisfied: typer<0.5.0,>=0.3.0 in c:\\conda\\lib\\site-packages (from spacy<3.4.0,>=3.3.0.dev0->ru-core-news-sm==3.3.0) (0.4.1)\n",
      "Requirement already satisfied: murmurhash<1.1.0,>=0.28.0 in c:\\conda\\lib\\site-packages (from spacy<3.4.0,>=3.3.0.dev0->ru-core-news-sm==3.3.0) (1.0.6)\n",
      "Requirement already satisfied: srsly<3.0.0,>=2.4.3 in c:\\conda\\lib\\site-packages (from spacy<3.4.0,>=3.3.0.dev0->ru-core-news-sm==3.3.0) (2.4.3)\n",
      "Requirement already satisfied: pydantic!=1.8,!=1.8.1,<1.9.0,>=1.7.4 in c:\\conda\\lib\\site-packages (from spacy<3.4.0,>=3.3.0.dev0->ru-core-news-sm==3.3.0) (1.8.2)\n",
      "Requirement already satisfied: wasabi<1.1.0,>=0.9.1 in c:\\conda\\lib\\site-packages (from spacy<3.4.0,>=3.3.0.dev0->ru-core-news-sm==3.3.0) (0.9.1)\n",
      "Requirement already satisfied: typing-extensions>=3.7.4.3 in c:\\conda\\lib\\site-packages (from pydantic!=1.8,!=1.8.1,<1.9.0,>=1.7.4->spacy<3.4.0,>=3.3.0.dev0->ru-core-news-sm==3.3.0) (3.10.0.2)\n",
      "Requirement already satisfied: charset-normalizer<4,>=2 in c:\\conda\\lib\\site-packages (from requests<3.0.0,>=2.13.0->spacy<3.4.0,>=3.3.0.dev0->ru-core-news-sm==3.3.0) (2.0.12)\n",
      "Requirement already satisfied: urllib3<1.27,>=1.21.1 in c:\\conda\\lib\\site-packages (from requests<3.0.0,>=2.13.0->spacy<3.4.0,>=3.3.0.dev0->ru-core-news-sm==3.3.0) (1.26.14)\n",
      "Requirement already satisfied: certifi>=2017.4.17 in c:\\conda\\lib\\site-packages (from requests<3.0.0,>=2.13.0->spacy<3.4.0,>=3.3.0.dev0->ru-core-news-sm==3.3.0) (2020.12.5)\n",
      "Requirement already satisfied: idna<4,>=2.5 in c:\\conda\\lib\\site-packages (from requests<3.0.0,>=2.13.0->spacy<3.4.0,>=3.3.0.dev0->ru-core-news-sm==3.3.0) (2.10)\n",
      "Requirement already satisfied: colorama in c:\\conda\\lib\\site-packages (from tqdm<5.0.0,>=4.38.0->spacy<3.4.0,>=3.3.0.dev0->ru-core-news-sm==3.3.0) (0.4.4)\n",
      "Requirement already satisfied: click<9.0.0,>=7.1.1 in c:\\conda\\lib\\site-packages (from typer<0.5.0,>=0.3.0->spacy<3.4.0,>=3.3.0.dev0->ru-core-news-sm==3.3.0) (7.1.2)\n",
      "Requirement already satisfied: MarkupSafe>=0.23 in c:\\conda\\lib\\site-packages (from jinja2->spacy<3.4.0,>=3.3.0.dev0->ru-core-news-sm==3.3.0) (1.1.1)\n",
      "[+] Download and installation successful\n",
      "You can now load the package via spacy.load('ru_core_news_sm')\n"
     ]
    },
    {
     "name": "stderr",
     "output_type": "stream",
     "text": [
      "WARNING: Ignoring invalid distribution -atplotlib (c:\\conda\\lib\\site-packages)\n",
      "DEPRECATION: https://github.com/explosion/spacy-models/releases/download/ru_core_news_sm-3.3.0/ru_core_news_sm-3.3.0-py3-none-any.whl#egg=ru_core_news_sm==3.3.0 contains an egg fragment with a non-PEP 508 name pip 25.0 will enforce this behaviour change. A possible replacement is to use the req @ url syntax, and remove the egg fragment. Discussion can be found at https://github.com/pypa/pip/issues/11617\n",
      "WARNING: Ignoring invalid distribution -atplotlib (c:\\conda\\lib\\site-packages)\n",
      "WARNING: Ignoring invalid distribution -atplotlib (c:\\conda\\lib\\site-packages)\n",
      "WARNING: Ignoring invalid distribution -atplotlib (c:\\conda\\lib\\site-packages)\n",
      "WARNING: Ignoring invalid distribution -atplotlib (c:\\conda\\lib\\site-packages)\n",
      "WARNING: Ignoring invalid distribution -atplotlib (c:\\conda\\lib\\site-packages)\n",
      "\n",
      "[notice] A new release of pip is available: 23.0 -> 23.0.1\n",
      "[notice] To update, run: python.exe -m pip install --upgrade pip\n",
      "C:\\conda\\lib\\site-packages\\numpy\\_distributor_init.py:30: UserWarning: loaded more than 1 DLL from .libs:\n",
      "C:\\conda\\lib\\site-packages\\numpy\\.libs\\libopenblas.EL2C6PLE4ZYW3ECEVIV3OXXGRN2NRFM2.gfortran-win_amd64.dll\n",
      "C:\\conda\\lib\\site-packages\\numpy\\.libs\\libopenblas.GK7GX5KEQ4F6UYO3P26ULGBQYHGQO7J4.gfortran-win_amd64.dll\n",
      "  warnings.warn(\"loaded more than 1 DLL from .libs:\"\n"
     ]
    }
   ],
   "source": [
    "!python -m spacy download ru_core_news_sm"
   ]
  },
  {
   "cell_type": "code",
   "execution_count": 11,
   "id": "15b05196",
   "metadata": {
    "scrolled": true
   },
   "outputs": [],
   "source": [
    "from selenium import webdriver\n",
    "\n",
    "from selenium.webdriver import Chrome\n",
    "from selenium.webdriver.common.keys import Keys\n",
    "from selenium.webdriver.common.by import By\n",
    "from selenium.webdriver.support.ui import WebDriverWait as Wait\n",
    "from selenium.webdriver.support import expected_conditions as EC\n",
    "\n",
    "from selenium.common.exceptions import NoSuchElementException\n",
    "from selenium.common.exceptions import ElementClickInterceptedException\n",
    "\n",
    "from selenium.webdriver.support.ui import Select\n",
    "from selenium.webdriver.common.action_chains import ActionChains\n",
    "\n",
    "from bs4 import BeautifulSoup as bs\n",
    "\n",
    "from time import sleep\n",
    "\n",
    "from webdriver_manager.chrome import ChromeDriverManager\n",
    "\n",
    "import csv\n",
    "\n",
    "import requests\n",
    "\n",
    "from lxml import html\n",
    "\n",
    "import re\n",
    "\n",
    "import unicodedata\n",
    "\n",
    "import pymorphy2\n",
    "\n"
   ]
  },
  {
   "cell_type": "code",
   "execution_count": 12,
   "id": "16b2c7c7",
   "metadata": {},
   "outputs": [],
   "source": [
    "with open('text_10_words.txt', 'r', encoding='windows-1251') as f:\n",
    "    f = f.read()"
   ]
  },
  {
   "cell_type": "code",
   "execution_count": 13,
   "id": "72060a64",
   "metadata": {},
   "outputs": [],
   "source": [
    "topics = f.split('\\n')\n",
    "\n",
    "topics = [topic.split(': ')[-1] for topic in topics if topic != '']"
   ]
  },
  {
   "cell_type": "code",
   "execution_count": 14,
   "id": "ec69ca43",
   "metadata": {},
   "outputs": [
    {
     "data": {
      "text/plain": [
       "'федерации медицинской организации помощи образования средств соответствии средства также сфере'"
      ]
     },
     "execution_count": 14,
     "metadata": {},
     "output_type": "execute_result"
    }
   ],
   "source": [
    "topics[0]"
   ]
  },
  {
   "cell_type": "code",
   "execution_count": 15,
   "id": "1f7e107e",
   "metadata": {},
   "outputs": [],
   "source": [
    "ACCENT_MAPPING = {\n",
    "    '́': '',\n",
    "    '̀': '',\n",
    "    'а́': 'а',\n",
    "    'а̀': 'а',\n",
    "    'е́': 'е',\n",
    "    'ѐ': 'е',\n",
    "    'и́': 'и',\n",
    "    'ѝ': 'и',\n",
    "    'о́': 'о',\n",
    "    'о̀': 'о',\n",
    "    'у́': 'у',\n",
    "    'у̀': 'у',\n",
    "    'ы́': 'ы',\n",
    "    'ы̀': 'ы',\n",
    "    'э́': 'э',\n",
    "    'э̀': 'э',\n",
    "    'ю́': 'ю',\n",
    "    '̀ю': 'ю',\n",
    "    'я́́': 'я',\n",
    "    'я̀': 'я',\n",
    "}\n",
    "ACCENT_MAPPING = {unicodedata.normalize('NFKC', i): j for i, j in ACCENT_MAPPING.items()}\n",
    "\n",
    "\n",
    "def unaccentify(s):\n",
    "    ## чтобы не было проблем с надстрочными символами\n",
    "    \n",
    "    source = unicodedata.normalize('NFKC', s)\n",
    "    for old, new in ACCENT_MAPPING.items():\n",
    "        source = source.replace(old, new)\n",
    "    return source"
   ]
  },
  {
   "cell_type": "code",
   "execution_count": 16,
   "id": "b6766529",
   "metadata": {},
   "outputs": [
    {
     "name": "stderr",
     "output_type": "stream",
     "text": [
      "C:\\conda\\lib\\site-packages\\numpy\\_distributor_init.py:30: UserWarning: loaded more than 1 DLL from .libs:\n",
      "C:\\conda\\lib\\site-packages\\numpy\\.libs\\libopenblas.EL2C6PLE4ZYW3ECEVIV3OXXGRN2NRFM2.gfortran-win_amd64.dll\n",
      "C:\\conda\\lib\\site-packages\\numpy\\.libs\\libopenblas.GK7GX5KEQ4F6UYO3P26ULGBQYHGQO7J4.gfortran-win_amd64.dll\n",
      "  warnings.warn(\"loaded more than 1 DLL from .libs:\"\n"
     ]
    }
   ],
   "source": [
    "import spacy"
   ]
  },
  {
   "cell_type": "code",
   "execution_count": 17,
   "id": "33f2602f",
   "metadata": {},
   "outputs": [],
   "source": [
    "class googling():\n",
    "    def __init__(self, spacy_model='ru_core_news_sm'):\n",
    "        \n",
    "        self.driver = webdriver.Chrome(ChromeDriverManager().install())  ##  инициализация веб-драйвера\n",
    "        self.nlp = spacy.load(spacy_model)\n",
    "        \n",
    "        \n",
    "        \n",
    "    def _parse(self):\n",
    "        ##  внутренняя функция парсинга\n",
    "        \n",
    "        soup = bs(self.driver.page_source, 'html.parser')\n",
    "        search = soup.find_all('div', class_=\"yuRUbf\")\n",
    "        for h in search:\n",
    "            self.names.append(h.get_text())\n",
    "\n",
    "\n",
    "    \n",
    "    def find(self, word, pages=3):\n",
    "        ##  ищет первые 30 (по умолчанию) выдач; кол-во страниц можно настраивать\n",
    "        \n",
    "        \n",
    "        self.word = word\n",
    "        self.names = [] \n",
    "        url = \"http://www.google.com/search?q=\" + self.word\n",
    "        self.driver.get(url)\n",
    "        \n",
    "        self._parse()  ##  парсим\n",
    "        \n",
    "        for n in range(pages-1):\n",
    "            try:\n",
    "                ##  поиск дополнительных 20 \n",
    "                ##  смотрим страницу 2 и 3 в поисковой выдаче\n",
    "                ##  в будущем нужно выделить в отдельную функцию (если будем смотреть все 30 выдач)\n",
    "\n",
    "                action = ActionChains(self.driver)\n",
    "                action.key_down(Keys.END).perform()  ##  скролим страницу вниз\n",
    "\n",
    "\n",
    "                xpath = '//*[@id=\"pnnext\"]/span[2]'\n",
    "                element = Wait(self.driver, 10).until(EC.presence_of_element_located((By.XPATH, xpath)))\n",
    "                element.click()  ##  нажимаем на \"следующий\"\n",
    "\n",
    "                self._parse()  ##  парсим\n",
    "\n",
    "            except:\n",
    "                ##  в случае если по этим топикам нет много данных\n",
    "                pass\n",
    "        \n",
    "        self.clean()\n",
    "        \n",
    "        \n",
    "        \n",
    "    def quit(self):\n",
    "        ##  функция выхода из веб-драйвера\n",
    "        ##  по сути дублирует функцию самого драйвера, но в ООП иначе никак\n",
    "        \n",
    "        self.driver.quit()\n",
    "        \n",
    "        \n",
    "        \n",
    "    def _lemmatize(self, text):\n",
    "        ## лемматизация\n",
    "    \n",
    "        doc = self.nlp(unaccentify(text))\n",
    "        return \" \".join([token.lemma_ for token in doc])\n",
    "        \n",
    "    \n",
    "    def clean(self):\n",
    "        ##  внутренняя функция, призванная очистить от лишних знаков\n",
    "        ##  надо доработать исходя из того, что требуется в итоге\n",
    "        \n",
    "        \n",
    "        self.result = []\n",
    "\n",
    "        for name in self.names:\n",
    "            text = re.split('http', name)[0]\n",
    "            text = re.sub('[-|a-z|.|,|:|0-9|A-z\"]', '', text)\n",
    "            text = re.sub('  ', ' ', text)\n",
    "            \n",
    "            self.result.append(self._lemmatize(text.strip('  ')))\n",
    "            \n",
    "\n",
    "    \n",
    "    def show_topics(self):\n",
    "        ##  для проверки результатов без сохранения в отдельный файл\n",
    "\n",
    "        print('QUERY:  ', self.word)\n",
    "        print('TITLES: \\n\\n')\n",
    "        for res in self.result:\n",
    "            print(res)\n",
    "        \n",
    "             \n",
    "            \n",
    "    def save(self, kuda):\n",
    "        ##  сохраняем результаты поисковой выдачи (ОТ ОДНОГО ТОПИКА) в отдельный файл \n",
    "        \n",
    "        source = str(kuda) + '.txt'\n",
    "        with open(source, 'w', encoding=\"utf-8\") as f:\n",
    "            f.write(f'QUERY: {self.word}\\n')\n",
    "            f.write('TITLES:\\n')\n",
    "            for res in self.result:\n",
    "                f.write(res)\n",
    "                f.write('\\n')"
   ]
  },
  {
   "cell_type": "code",
   "execution_count": 18,
   "id": "5ea793b6",
   "metadata": {},
   "outputs": [
    {
     "name": "stderr",
     "output_type": "stream",
     "text": [
      "\n",
      "\n",
      "====== WebDriver manager ======\n",
      "Current google-chrome version is 111.0.5563\n",
      "Get LATEST chromedriver version for 111.0.5563 google-chrome\n",
      "Trying to download new driver from https://chromedriver.storage.googleapis.com/111.0.5563.64/chromedriver_win32.zip\n",
      "Driver has been saved in cache [C:\\Users\\Марк\\.wdm\\drivers\\chromedriver\\win32\\111.0.5563.64]\n",
      "<ipython-input-17-5f6160664e6b>:4: DeprecationWarning: executable_path has been deprecated, please pass in a Service object\n",
      "  self.driver = webdriver.Chrome(ChromeDriverManager().install())  ##  инициализация веб-драйвера\n"
     ]
    }
   ],
   "source": [
    "yandex_part = googling()"
   ]
  },
  {
   "cell_type": "code",
   "execution_count": 19,
   "id": "41826d86",
   "metadata": {},
   "outputs": [
    {
     "name": "stderr",
     "output_type": "stream",
     "text": [
      "Џ®¤Ї ЇЄ  Ё«Ё д ©« topics_forcomments г¦Ґ бгйҐбвўгҐв.\n"
     ]
    }
   ],
   "source": [
    "!mkdir topics_forcomments"
   ]
  },
  {
   "cell_type": "code",
   "execution_count": 20,
   "id": "52fa6ebc",
   "metadata": {},
   "outputs": [],
   "source": [
    "\n",
    "##  смотрим топик 5\n",
    "\n",
    "\n",
    "#yandex_part.find(topics[5])\n",
    "#yandex_part.show_topics()"
   ]
  },
  {
   "cell_type": "code",
   "execution_count": 21,
   "id": "5c3a8aee",
   "metadata": {},
   "outputs": [],
   "source": [
    "## смотрим все 10 топиков, записываем результат от каждого топика в отдельный файл\n",
    "## ищем 40 выдач для каждого топика (просматриваем 4 страницы)\n",
    "\n",
    "for n, topic in enumerate(topics):\n",
    "    yandex_part.find(topic, pages=4)\n",
    "    yandex_part.save(f'topics_forcomments/topic_{n}')"
   ]
  },
  {
   "cell_type": "code",
   "execution_count": 22,
   "id": "1b1cbf3a",
   "metadata": {},
   "outputs": [],
   "source": [
    "yandex_part.quit()"
   ]
  },
  {
   "cell_type": "code",
   "execution_count": null,
   "id": "f7e62eb5",
   "metadata": {},
   "outputs": [],
   "source": []
  }
 ],
 "metadata": {
  "kernelspec": {
   "display_name": "Python 3",
   "language": "python",
   "name": "python3"
  },
  "language_info": {
   "codemirror_mode": {
    "name": "ipython",
    "version": 3
   },
   "file_extension": ".py",
   "mimetype": "text/x-python",
   "name": "python",
   "nbconvert_exporter": "python",
   "pygments_lexer": "ipython3",
   "version": "3.8.8"
  }
 },
 "nbformat": 4,
 "nbformat_minor": 5
}
