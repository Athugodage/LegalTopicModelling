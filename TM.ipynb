{
 "cells": [
  {
   "cell_type": "code",
   "execution_count": 1,
   "metadata": {
    "colab": {
     "base_uri": "https://localhost:8080/"
    },
    "id": "p7225y0QF3yl",
    "outputId": "7f7ee72c-5444-45f5-f336-b996fcd9e9cd"
   },
   "outputs": [
    {
     "name": "stdout",
     "output_type": "stream",
     "text": [
      "Requirement already satisfied: gensim in c:\\conda\\lib\\site-packages (4.2.0)"
     ]
    },
    {
     "name": "stderr",
     "output_type": "stream",
     "text": [
      "WARNING: Ignoring invalid distribution -atplotlib (c:\\conda\\lib\\site-packages)\n",
      "WARNING: Ignoring invalid distribution -atplotlib (c:\\conda\\lib\\site-packages)\n",
      "WARNING: Ignoring invalid distribution -atplotlib (c:\\conda\\lib\\site-packages)\n",
      "WARNING: Ignoring invalid distribution -atplotlib (c:\\conda\\lib\\site-packages)\n",
      "WARNING: Ignoring invalid distribution -atplotlib (c:\\conda\\lib\\site-packages)\n",
      "WARNING: Ignoring invalid distribution -atplotlib (c:\\conda\\lib\\site-packages)\n",
      "\n",
      "[notice] A new release of pip is available: 23.0 -> 23.0.1\n",
      "[notice] To update, run: python.exe -m pip install --upgrade pip\n"
     ]
    },
    {
     "name": "stdout",
     "output_type": "stream",
     "text": [
      "\n",
      "Requirement already satisfied: scipy>=0.18.1 in c:\\conda\\lib\\site-packages (from gensim) (1.6.2)\n",
      "Requirement already satisfied: Cython==0.29.28 in c:\\conda\\lib\\site-packages (from gensim) (0.29.28)\n",
      "Requirement already satisfied: numpy>=1.17.0 in c:\\conda\\lib\\site-packages (from gensim) (1.22.4)\n",
      "Requirement already satisfied: smart-open>=1.8.1 in c:\\conda\\lib\\site-packages (from gensim) (5.2.1)\n"
     ]
    }
   ],
   "source": [
    "!pip install gensim"
   ]
  },
  {
   "cell_type": "markdown",
   "metadata": {
    "id": "SMhGLwZTPEeK"
   },
   "source": []
  },
  {
   "cell_type": "code",
   "execution_count": 2,
   "metadata": {
    "colab": {
     "base_uri": "https://localhost:8080/"
    },
    "id": "fpwSUSe0JGgY",
    "outputId": "6d926369-2f35-4fcd-d1ca-a7a9908c8a9d"
   },
   "outputs": [
    {
     "name": "stdout",
     "output_type": "stream",
     "text": [
      "Requirement already satisfied: pymorphy2 in c:\\conda\\lib\\site-packages (0.9.1)\n",
      "Requirement already satisfied: pymorphy2-dicts-ru<3.0,>=2.4 in c:\\conda\\lib\\site-packages (from pymorphy2) (2.4.417127.4579844)\n",
      "Requirement already satisfied: docopt>=0.6 in c:\\conda\\lib\\site-packages (from pymorphy2) (0.6.2)\n",
      "Requirement already satisfied: dawg-python>=0.7.1 in c:\\conda\\lib\\site-packages (from pymorphy2) (0.7.2)\n"
     ]
    },
    {
     "name": "stderr",
     "output_type": "stream",
     "text": [
      "WARNING: Ignoring invalid distribution -atplotlib (c:\\conda\\lib\\site-packages)\n",
      "WARNING: Ignoring invalid distribution -atplotlib (c:\\conda\\lib\\site-packages)\n",
      "WARNING: Ignoring invalid distribution -atplotlib (c:\\conda\\lib\\site-packages)\n",
      "WARNING: Ignoring invalid distribution -atplotlib (c:\\conda\\lib\\site-packages)\n",
      "WARNING: Ignoring invalid distribution -atplotlib (c:\\conda\\lib\\site-packages)\n",
      "WARNING: Ignoring invalid distribution -atplotlib (c:\\conda\\lib\\site-packages)\n",
      "\n",
      "[notice] A new release of pip is available: 23.0 -> 23.0.1\n",
      "[notice] To update, run: python.exe -m pip install --upgrade pip\n"
     ]
    }
   ],
   "source": [
    "!pip install pymorphy2"
   ]
  },
  {
   "cell_type": "code",
   "execution_count": 3,
   "metadata": {
    "id": "OVnLpEiMHj5Q"
   },
   "outputs": [
    {
     "name": "stderr",
     "output_type": "stream",
     "text": [
      "C:\\conda\\lib\\site-packages\\numpy\\_distributor_init.py:30: UserWarning: loaded more than 1 DLL from .libs:\n",
      "C:\\conda\\lib\\site-packages\\numpy\\.libs\\libopenblas.EL2C6PLE4ZYW3ECEVIV3OXXGRN2NRFM2.gfortran-win_amd64.dll\n",
      "C:\\conda\\lib\\site-packages\\numpy\\.libs\\libopenblas.GK7GX5KEQ4F6UYO3P26ULGBQYHGQO7J4.gfortran-win_amd64.dll\n",
      "  warnings.warn(\"loaded more than 1 DLL from .libs:\"\n"
     ]
    }
   ],
   "source": [
    "\n",
    "from tqdm.notebook import tqdm\n",
    "import numpy as np\n",
    "import gensim"
   ]
  },
  {
   "cell_type": "code",
   "execution_count": 4,
   "metadata": {
    "id": "NvVJUmbePLA-"
   },
   "outputs": [],
   "source": [
    "import nltk\n",
    "import nltk.data"
   ]
  },
  {
   "cell_type": "code",
   "execution_count": 5,
   "metadata": {
    "id": "Xvye71DcJEbb"
   },
   "outputs": [],
   "source": [
    "stop_words = open(\"russian\", 'r', encoding='utf-8').read()"
   ]
  },
  {
   "cell_type": "code",
   "execution_count": 6,
   "metadata": {
    "id": "UpOO2OnqXGyg"
   },
   "outputs": [],
   "source": [
    "from tqdm import tqdm"
   ]
  },
  {
   "cell_type": "code",
   "execution_count": null,
   "metadata": {
    "id": "slJZ3fyHXGbR"
   },
   "outputs": [],
   "source": []
  },
  {
   "cell_type": "code",
   "execution_count": 7,
   "metadata": {
    "id": "MQnohwecPsGP"
   },
   "outputs": [],
   "source": [
    "import pymorphy2\n",
    "\n",
    "morph = pymorphy2.MorphAnalyzer()"
   ]
  },
  {
   "cell_type": "code",
   "execution_count": 8,
   "metadata": {},
   "outputs": [],
   "source": [
    "import pandas as pd\n",
    "\n",
    "sentences = []\n",
    "data = []\n",
    "\n",
    "tqdm.pandas()\n",
    "\n",
    "df = pd.read_csv('full_corpus.csv')"
   ]
  },
  {
   "cell_type": "code",
   "execution_count": 9,
   "metadata": {
    "id": "ZP-B-8KFRbF_"
   },
   "outputs": [],
   "source": [
    "import codecs\n",
    "import os"
   ]
  },
  {
   "cell_type": "code",
   "execution_count": 10,
   "metadata": {
    "id": "kdPmfe7SRc0H"
   },
   "outputs": [],
   "source": [
    "from sklearn.decomposition import LatentDirichletAllocation"
   ]
  },
  {
   "cell_type": "code",
   "execution_count": 11,
   "metadata": {
    "id": "3ORHj7KARfeC"
   },
   "outputs": [],
   "source": [
    "from sklearn.feature_extraction.text import CountVectorizer"
   ]
  },
  {
   "cell_type": "code",
   "execution_count": 12,
   "metadata": {
    "id": "wKebJkB1Ri4y"
   },
   "outputs": [],
   "source": [
    "NUM_TOPICS = 10\n",
    "N_FIRST = 10 # сколько первых слов на тему выводить\n",
    "MIN_DF = 3 # минимальное число вхождений слова в документ, чтобы мы его учитывали (включали в вектор документа)\n",
    "MAX_DF = 0.99 # в каком проценте документов должно присутствовать слово, чтобы оно не рассматривалось"
   ]
  },
  {
   "cell_type": "code",
   "execution_count": 13,
   "metadata": {},
   "outputs": [
    {
     "name": "stdout",
     "output_type": "stream",
     "text": [
      "Текст\n"
     ]
    }
   ],
   "source": [
    "column = str(input())"
   ]
  },
  {
   "cell_type": "code",
   "execution_count": 14,
   "metadata": {},
   "outputs": [],
   "source": [
    "df[column] = df[column].astype(str)"
   ]
  },
  {
   "cell_type": "code",
   "execution_count": 15,
   "metadata": {
    "id": "yUtHKuZZRk8q"
   },
   "outputs": [],
   "source": [
    "count_vectorizer = CountVectorizer(min_df=MIN_DF, max_df=MAX_DF, stop_words = [w for w in stop_words.split('\\n')])\n",
    "data_count_vectorized = count_vectorizer.fit_transform(df[column])"
   ]
  },
  {
   "cell_type": "code",
   "execution_count": 16,
   "metadata": {
    "id": "MKuFxN7AR8Rm"
   },
   "outputs": [],
   "source": [
    "lda_model = LatentDirichletAllocation(n_components=NUM_TOPICS, max_iter=10, learning_method='batch', batch_size=512, random_state = 2)\n",
    "lda_model.fit_transform(data_count_vectorized);"
   ]
  },
  {
   "cell_type": "code",
   "execution_count": 17,
   "metadata": {
    "id": "R01U0CurSUT_"
   },
   "outputs": [],
   "source": [
    "all = []\n",
    "\n",
    "# print function\n",
    "def print_topics(model, vectorizer, top_n=N_FIRST):\n",
    "    for idx, topic in enumerate(model.components_):\n",
    "        print(\"Topic %d:\" % (idx))\n",
    "        all.append([(vectorizer.get_feature_names()[i], topic[i])\n",
    "                        for i in topic.argsort()[:-top_n - 1:-1]])\n",
    "        print([(vectorizer.get_feature_names()[i], topic[i])\n",
    "                        for i in topic.argsort()[:-top_n - 1:-1]])"
   ]
  },
  {
   "cell_type": "code",
   "execution_count": 18,
   "metadata": {
    "colab": {
     "base_uri": "https://localhost:8080/"
    },
    "id": "wCuu-dLkSUQg",
    "outputId": "82f9063c-65c3-42d9-a7b5-8bc240fda673"
   },
   "outputs": [
    {
     "name": "stdout",
     "output_type": "stream",
     "text": [
      "Topic 0:\n"
     ]
    },
    {
     "name": "stderr",
     "output_type": "stream",
     "text": [
      "C:\\conda\\lib\\site-packages\\sklearn\\utils\\deprecation.py:87: FutureWarning: Function get_feature_names is deprecated; get_feature_names is deprecated in 1.0 and will be removed in 1.2. Please use get_feature_names_out instead.\n",
      "  warnings.warn(msg, category=FutureWarning)\n"
     ]
    },
    {
     "name": "stdout",
     "output_type": "stream",
     "text": [
      "[('федерации', 10421.079932645398), ('медицинской', 6259.775051348632), ('организации', 5086.507239738019), ('помощи', 4312.82446849782), ('образования', 4289.8895509993245), ('средств', 3945.854197034307), ('соответствии', 3371.5517212792665), ('средства', 3354.9225896935254), ('также', 2627.33939116085), ('сфере', 2600.669377749637)]\n",
      "Topic 1:\n",
      "[('федерации', 22269.5960218733), ('статьи', 8629.114074623043), ('суда', 7228.179620123895), ('года', 5640.9311375343095), ('закона', 5273.177581380794), ('федерального', 4876.7441712587515), ('суд', 4838.239664498167), ('части', 4366.423809792758), ('часть', 3786.606492359683), ('статья', 3323.898337876931)]\n",
      "Topic 2:\n",
      "[('федерации', 6873.547339313004), ('строительства', 4470.847525867885), ('объектов', 3652.3942985793374), ('ст', 3606.520351092114), ('статьи', 3291.5173136557923), ('соответствии', 2776.790434616314), ('федерального', 2753.908205642581), ('закона', 2483.625210876653), ('настоящего', 2477.622686517448), ('части', 2472.903528483522)]\n",
      "Topic 3:\n",
      "[('ст', 54920.40913663082), ('федерации', 13134.854990839916), ('статьи', 9726.62820749811), ('словами', 8198.557893987918), ('дополнить', 7620.624045659255), ('слова', 6761.185846182438), ('года', 6478.476961923928), ('заменить', 6342.209539892688), ('30', 5138.2146773003105), ('31', 4826.380157248809)]\n",
      "Topic 4:\n",
      "[('рф', 8617.315976640411), ('статьи', 8021.505529374036), ('части', 3549.991070357247), ('либо', 3106.892204733579), ('гк', 2405.8787651637213), ('также', 1967.136515038254), ('лица', 1892.8389392550278), ('федерации', 1826.9839351168544), ('наказания', 1712.237056950666), ('пункт', 1675.721808466484)]\n",
      "Topic 5:\n",
      "[('2020', 2985.784781307424), ('области', 2943.9737072072357), ('года', 1871.6118924417706), ('также', 1650.0309622741418), ('организации', 1606.4614622479166), ('10', 1597.6945137255607), ('соответствии', 1550.0757603829588), ('федерации', 1525.121991927991), ('территории', 1525.1205439416763), ('коронавирусной', 1406.8394113568736)]\n",
      "Topic 6:\n",
      "[('статьи', 8257.937636602574), ('закона', 5797.901936565364), ('федерального', 5070.668939147765), ('соответствии', 4776.588959046523), ('средств', 4746.532697609917), ('организации', 4638.184845959262), ('настоящего', 4446.262102129942), ('федерации', 4389.652892016865), ('случае', 3692.0474230795458), ('пункта', 3634.7595747357136)]\n",
      "Topic 7:\n",
      "[('федерации', 6949.295736538832), ('государственной', 5500.372979397584), ('федерального', 5454.171819534373), ('статьи', 5280.6359115353725), ('власти', 4675.286554729184), ('части', 4403.782628626866), ('закона', 4384.073276469048), ('регистрации', 3607.102554781864), ('соответствии', 3309.0390716377415), ('земельного', 3227.55057593482)]\n",
      "Topic 8:\n",
      "[('ст', 13258.737981875876), ('федерации', 12910.412074095642), ('государственной', 8718.227536106624), ('россии', 6859.609541576137), ('услуги', 5688.030369492928), ('органа', 4328.204811762936), ('органов', 4211.442250219171), ('документов', 4017.9299735135787), ('предоставления', 3444.8547964770773), ('лица', 3177.694596532764)]\n",
      "Topic 9:\n",
      "[('федерации', 19131.455085630812), ('безопасности', 4686.168252746009), ('федерального', 4218.515605548723), ('рублей', 3762.27562835828), ('бюджета', 3689.0045576679536), ('году', 3251.5412235019803), ('транспортной', 3170.371626396797), ('тыс', 3159.070573825481), ('средств', 2823.378633022118), ('также', 2646.212254718873)]\n"
     ]
    }
   ],
   "source": [
    "print_topics(lda_model, count_vectorizer)"
   ]
  },
  {
   "cell_type": "code",
   "execution_count": 19,
   "metadata": {
    "colab": {
     "base_uri": "https://localhost:8080/"
    },
    "id": "bb0rn4qUSUOK",
    "outputId": "f4d69216-ab4b-475a-cfc8-77b29896de05"
   },
   "outputs": [
    {
     "name": "stdout",
     "output_type": "stream",
     "text": [
      "-------------------------------\n",
      "Тема  0\n",
      "федерации\n",
      "медицинской\n",
      "организации\n",
      "помощи\n",
      "образования\n",
      "средств\n",
      "соответствии\n",
      "средства\n",
      "также\n",
      "сфере\n",
      "-------------------------------\n",
      "Тема  1\n",
      "федерации\n",
      "статьи\n",
      "суда\n",
      "года\n",
      "закона\n",
      "федерального\n",
      "суд\n",
      "части\n",
      "часть\n",
      "статья\n",
      "-------------------------------\n",
      "Тема  2\n",
      "федерации\n",
      "строительства\n",
      "объектов\n",
      "ст\n",
      "статьи\n",
      "соответствии\n",
      "федерального\n",
      "закона\n",
      "настоящего\n",
      "части\n",
      "-------------------------------\n",
      "Тема  3\n",
      "ст\n",
      "федерации\n",
      "статьи\n",
      "словами\n",
      "дополнить\n",
      "слова\n",
      "года\n",
      "заменить\n",
      "30\n",
      "31\n",
      "-------------------------------\n",
      "Тема  4\n",
      "рф\n",
      "статьи\n",
      "части\n",
      "либо\n",
      "гк\n",
      "также\n",
      "лица\n",
      "федерации\n",
      "наказания\n",
      "пункт\n",
      "-------------------------------\n",
      "Тема  5\n",
      "2020\n",
      "области\n",
      "года\n",
      "также\n",
      "организации\n",
      "10\n",
      "соответствии\n",
      "федерации\n",
      "территории\n",
      "коронавирусной\n",
      "-------------------------------\n",
      "Тема  6\n",
      "статьи\n",
      "закона\n",
      "федерального\n",
      "соответствии\n",
      "средств\n",
      "организации\n",
      "настоящего\n",
      "федерации\n",
      "случае\n",
      "пункта\n",
      "-------------------------------\n",
      "Тема  7\n",
      "федерации\n",
      "государственной\n",
      "федерального\n",
      "статьи\n",
      "власти\n",
      "части\n",
      "закона\n",
      "регистрации\n",
      "соответствии\n",
      "земельного\n",
      "-------------------------------\n",
      "Тема  8\n",
      "ст\n",
      "федерации\n",
      "государственной\n",
      "россии\n",
      "услуги\n",
      "органа\n",
      "органов\n",
      "документов\n",
      "предоставления\n",
      "лица\n",
      "-------------------------------\n",
      "Тема  9\n",
      "федерации\n",
      "безопасности\n",
      "федерального\n",
      "рублей\n",
      "бюджета\n",
      "году\n",
      "транспортной\n",
      "тыс\n",
      "средств\n",
      "также\n"
     ]
    }
   ],
   "source": [
    "temi_slova = []\n",
    "\n",
    "for i,topic in enumerate(all):\n",
    "    print(\"-------------------------------\")\n",
    "    print(\"Тема \",i)\n",
    "    for para in topic:\n",
    "        print(para[0])\n",
    "        temi_slova.append(para[0])"
   ]
  },
  {
   "cell_type": "code",
   "execution_count": 20,
   "metadata": {},
   "outputs": [],
   "source": [
    "with open('initial_originals.txt', 'w') as w:\n",
    "    for t in temi_slova:\n",
    "        w.write(str(t))\n",
    "        w.write('\\n')\n",
    "        \n",
    "        \n",
    "## for metric with only LDA"
   ]
  },
  {
   "cell_type": "code",
   "execution_count": 21,
   "metadata": {
    "id": "RUuGBapOSULJ"
   },
   "outputs": [],
   "source": [
    "dic = {}\n",
    "\n",
    "for theme_id, topic in enumerate(all):\n",
    "    dic[theme_id] = []\n",
    "    for para in topic:\n",
    "        dic[theme_id].append(para[0])"
   ]
  },
  {
   "cell_type": "code",
   "execution_count": 22,
   "metadata": {
    "id": "Spvj9q1XSUJL"
   },
   "outputs": [],
   "source": [
    "topics_10_words = []\n",
    "\n",
    "for topic_id in dic:\n",
    "    topic = ' '.join(dic[topic_id][:10])\n",
    "    topics_10_words.append(topic)"
   ]
  },
  {
   "cell_type": "code",
   "execution_count": 23,
   "metadata": {
    "colab": {
     "base_uri": "https://localhost:8080/"
    },
    "id": "eXx1-4s3SUFl",
    "outputId": "abbf0295-809b-4cba-9406-10a2207654c0"
   },
   "outputs": [
    {
     "name": "stdout",
     "output_type": "stream",
     "text": [
      "0 федерации медицинской организации помощи образования средств соответствии средства также сфере\n",
      "1 федерации статьи суда года закона федерального суд части часть статья\n",
      "2 федерации строительства объектов ст статьи соответствии федерального закона настоящего части\n",
      "3 ст федерации статьи словами дополнить слова года заменить 30 31\n",
      "4 рф статьи части либо гк также лица федерации наказания пункт\n",
      "5 2020 области года также организации 10 соответствии федерации территории коронавирусной\n",
      "6 статьи закона федерального соответствии средств организации настоящего федерации случае пункта\n",
      "7 федерации государственной федерального статьи власти части закона регистрации соответствии земельного\n",
      "8 ст федерации государственной россии услуги органа органов документов предоставления лица\n",
      "9 федерации безопасности федерального рублей бюджета году транспортной тыс средств также\n"
     ]
    }
   ],
   "source": [
    "for theme_id, topic in enumerate(topics_10_words):\n",
    "    print(theme_id, topic)"
   ]
  },
  {
   "cell_type": "code",
   "execution_count": 24,
   "metadata": {},
   "outputs": [
    {
     "data": {
      "text/plain": [
       "['федерации медицинской организации помощи образования средств соответствии средства также сфере',\n",
       " 'федерации статьи суда года закона федерального суд части часть статья',\n",
       " 'федерации строительства объектов ст статьи соответствии федерального закона настоящего части',\n",
       " 'ст федерации статьи словами дополнить слова года заменить 30 31',\n",
       " 'рф статьи части либо гк также лица федерации наказания пункт',\n",
       " '2020 области года также организации 10 соответствии федерации территории коронавирусной',\n",
       " 'статьи закона федерального соответствии средств организации настоящего федерации случае пункта',\n",
       " 'федерации государственной федерального статьи власти части закона регистрации соответствии земельного',\n",
       " 'ст федерации государственной россии услуги органа органов документов предоставления лица',\n",
       " 'федерации безопасности федерального рублей бюджета году транспортной тыс средств также']"
      ]
     },
     "execution_count": 24,
     "metadata": {},
     "output_type": "execute_result"
    }
   ],
   "source": [
    "topics_10_words"
   ]
  },
  {
   "cell_type": "code",
   "execution_count": 25,
   "metadata": {
    "id": "XnMDo1tzTVye"
   },
   "outputs": [
    {
     "name": "stdout",
     "output_type": "stream",
     "text": [
      "100% [......................................................................] 638171816 / 638171816"
     ]
    }
   ],
   "source": [
    "import wget\n",
    "\n",
    "model_url = 'http://vectors.nlpl.eu/repository/20/220.zip'\n",
    "\n",
    "m = wget.download(model_url)"
   ]
  },
  {
   "cell_type": "code",
   "execution_count": 26,
   "metadata": {},
   "outputs": [],
   "source": [
    "import zipfile\n",
    "with zipfile.ZipFile('220.zip', 'r') as zip_ref:\n",
    "    zip_ref.extractall('ruwikiruscorpora_cbow_220')"
   ]
  },
  {
   "cell_type": "code",
   "execution_count": 27,
   "metadata": {
    "id": "dupsJC98TbM9"
   },
   "outputs": [],
   "source": [
    "\n",
    "rusvectores = gensim.models.KeyedVectors.load_word2vec_format('ruwikiruscorpora_cbow_220/model.bin', binary=True)"
   ]
  },
  {
   "cell_type": "code",
   "execution_count": 28,
   "metadata": {
    "colab": {
     "base_uri": "https://localhost:8080/"
    },
    "id": "Uh20NVDpTxY2",
    "outputId": "d083db3d-817d-4e09-eb94-cc991a951b3c"
   },
   "outputs": [
    {
     "name": "stdout",
     "output_type": "stream",
     "text": [
      "---\n",
      "Topic #0:\n",
      "Topics: федерации медицинской организации помощи образования средств соответствии средства также сфере\n",
      "Labels: средства средство деньги\n",
      "---\n",
      "Topic #1:\n",
      "Topics: федерации статьи суда года закона федерального суд части часть статья\n",
      "Labels: суд статья суд\n",
      "---\n",
      "Topic #2:\n",
      "Topics: федерации строительства объектов ст статьи соответствии федерального закона настоящего части\n",
      "Labels: ст закона дней\n",
      "---\n",
      "Topic #3:\n",
      "Topics: ст федерации статьи словами дополнить слова года заменить 30 31\n",
      "Labels: ст года дней\n",
      "---\n",
      "Topic #4:\n",
      "Topics: рф статьи части либо гк также лица федерации наказания пункт\n",
      "Labels: пункт пункты лица\n",
      "---\n",
      "Topic #5:\n",
      "Topics: 2020 области года также организации 10 соответствии федерации территории коронавирусной\n",
      "Labels: года сна года\n",
      "---\n",
      "Topic #6:\n",
      "Topics: статьи закона федерального соответствии средств организации настоящего федерации случае пункта\n",
      "Labels: пункта пункты пункт\n",
      "---\n",
      "Topic #7:\n",
      "Topics: федерации государственной федерального статьи власти части закона регистрации соответствии земельного\n",
      "Labels: закона законов судебник\n",
      "---\n",
      "Topic #8:\n",
      "Topics: ст федерации государственной россии услуги органа органов документов предоставления лица\n",
      "Labels: лица лиця лицей\n",
      "---\n",
      "Topic #9:\n",
      "Topics: федерации безопасности федерального рублей бюджета году транспортной тыс средств также\n",
      "Labels: средств содержан цль\n"
     ]
    }
   ],
   "source": [
    "labels = []\n",
    "\n",
    "\n",
    "for theme_id, topics in enumerate(topics_10_words):\n",
    "    topic_vectors_ruwiki = []\n",
    "    for topic in topics.split():\n",
    "        POS = morph.parse(topic)[0].tag.POS\n",
    "        topic = f\"{topic}_{POS}\"\n",
    "        try:\n",
    "            topic_vectors_ruwiki.append(rusvectores[topic])\n",
    "        except KeyError:\n",
    "            continue\n",
    "    topic_vectors_ruwiki = np.asarray(topic_vectors_ruwiki)\n",
    "    mean_vector_ruwiki = np.ndarray.mean(topic_vectors_ruwiki, axis=0)\n",
    "    try:\n",
    "        similar_words_ruwiki = rusvectores.most_similar(positive=[mean_vector_ruwiki], topn=3)\n",
    "        print('---')\n",
    "        print(f'Topic #{theme_id}:')\n",
    "        print(f'Topics: {topics}')\n",
    "        labels.append(\" \".join(pair[0].split(\"_\")[0] for pair in similar_words_ruwiki))\n",
    "        print(f'Labels: {\" \".join(pair[0].split(\"_\")[0] for pair in similar_words_ruwiki)}')\n",
    "    \n",
    "    except:\n",
    "        print('No')"
   ]
  },
  {
   "cell_type": "code",
   "execution_count": 29,
   "metadata": {
    "colab": {
     "base_uri": "https://localhost:8080/",
     "height": 1000
    },
    "id": "1JQa3j-KULky",
    "outputId": "2b3f873f-01d5-4caa-832e-41b70774ab90"
   },
   "outputs": [
    {
     "name": "stdout",
     "output_type": "stream",
     "text": [
      "Requirement already satisfied: compress_fasttext in c:\\conda\\lib\\site-packages (0.1.3)\n",
      "Requirement already satisfied: gensim>=4.0.0 in c:\\conda\\lib\\site-packages (from compress_fasttext) (4.2.0)\n",
      "Requirement already satisfied: numpy in c:\\conda\\lib\\site-packages (from compress_fasttext) (1.22.4)\n",
      "Requirement already satisfied: Cython==0.29.28 in c:\\conda\\lib\\site-packages (from gensim>=4.0.0->compress_fasttext) (0.29.28)\n",
      "Requirement already satisfied: smart-open>=1.8.1 in c:\\conda\\lib\\site-packages (from gensim>=4.0.0->compress_fasttext) (5.2.1)\n",
      "Requirement already satisfied: scipy>=0.18.1 in c:\\conda\\lib\\site-packages (from gensim>=4.0.0->compress_fasttext) (1.6.2)\n"
     ]
    },
    {
     "name": "stderr",
     "output_type": "stream",
     "text": [
      "WARNING: Ignoring invalid distribution -atplotlib (c:\\conda\\lib\\site-packages)\n",
      "WARNING: Ignoring invalid distribution -atplotlib (c:\\conda\\lib\\site-packages)\n",
      "WARNING: Ignoring invalid distribution -atplotlib (c:\\conda\\lib\\site-packages)\n",
      "WARNING: Ignoring invalid distribution -atplotlib (c:\\conda\\lib\\site-packages)\n",
      "WARNING: Ignoring invalid distribution -atplotlib (c:\\conda\\lib\\site-packages)\n",
      "WARNING: Ignoring invalid distribution -atplotlib (c:\\conda\\lib\\site-packages)\n",
      "\n",
      "[notice] A new release of pip is available: 23.0 -> 23.0.1\n",
      "[notice] To update, run: python.exe -m pip install --upgrade pip\n"
     ]
    },
    {
     "name": "stdout",
     "output_type": "stream",
     "text": [
      "Requirement already satisfied: ruwordnet in c:\\conda\\lib\\site-packages (0.0.5)\n",
      "Requirement already satisfied: sqlalchemy in c:\\conda\\lib\\site-packages (from ruwordnet) (1.4.7)\n",
      "Requirement already satisfied: greenlet!=0.4.17 in c:\\conda\\lib\\site-packages (from sqlalchemy->ruwordnet) (1.0.0)\n"
     ]
    },
    {
     "name": "stderr",
     "output_type": "stream",
     "text": [
      "WARNING: Ignoring invalid distribution -atplotlib (c:\\conda\\lib\\site-packages)\n",
      "WARNING: Ignoring invalid distribution -atplotlib (c:\\conda\\lib\\site-packages)\n",
      "WARNING: Ignoring invalid distribution -atplotlib (c:\\conda\\lib\\site-packages)\n",
      "WARNING: Ignoring invalid distribution -atplotlib (c:\\conda\\lib\\site-packages)\n",
      "WARNING: Ignoring invalid distribution -atplotlib (c:\\conda\\lib\\site-packages)\n",
      "WARNING: Ignoring invalid distribution -atplotlib (c:\\conda\\lib\\site-packages)\n",
      "\n",
      "[notice] A new release of pip is available: 23.0 -> 23.0.1\n",
      "[notice] To update, run: python.exe -m pip install --upgrade pip\n"
     ]
    },
    {
     "name": "stdout",
     "output_type": "stream",
     "text": [
      "downloading a ruwordnet model from https://github.com/avidale/python-ruwordnet/releases/download/0.0.4/ruwordnet-2021.db\n"
     ]
    }
   ],
   "source": [
    "!pip install compress_fasttext\n",
    "!pip install ruwordnet\n",
    "!ruwordnet download"
   ]
  },
  {
   "cell_type": "code",
   "execution_count": 30,
   "metadata": {
    "colab": {
     "base_uri": "https://localhost:8080/",
     "height": 571
    },
    "id": "WrvvOF68UOV2",
    "outputId": "11cb5b11-cb73-4aae-c48a-4f1d8fdd580c"
   },
   "outputs": [],
   "source": [
    "import compress_fasttext\n",
    "import matplotlib.pyplot as plt\n",
    "\n",
    "from ruwordnet import RuWordNet\n",
    "from collections import Counter\n",
    "from tqdm.auto import tqdm, trange\n",
    "from sklearn.neighbors import KDTree\n",
    "\n",
    "wn = RuWordNet()"
   ]
  },
  {
   "cell_type": "code",
   "execution_count": 31,
   "metadata": {},
   "outputs": [],
   "source": [
    "ft = compress_fasttext.models.CompressedFastTextKeyedVectors.load(\n",
    "    'https://github.com/avidale/compress-fasttext/releases/download/gensim-4-draft/geowac_tokens_sg_300_5_2020-100K-20K-100.bin'\n",
    ")"
   ]
  },
  {
   "cell_type": "code",
   "execution_count": 32,
   "metadata": {},
   "outputs": [],
   "source": [
    "def vectorize(text):\n",
    "    vec = np.mean([ft[word] for word in text.lower().split() if len(word) >= 3], axis=0)\n",
    "    vec /= sum(vec**2) ** 0.5 \n",
    "    return vec\n",
    "\n",
    "def distance2vote(d, a=3, b=5):\n",
    "    sim = np.maximum(0, 1 - d**2/2)\n",
    "    return np.exp(-d**a) * sim **b"
   ]
  },
  {
   "cell_type": "code",
   "execution_count": 33,
   "metadata": {},
   "outputs": [
    {
     "data": {
      "text/plain": [
       "Text(0.5, 1.0, 'Функция взвешивания соседей')"
      ]
     },
     "execution_count": 33,
     "metadata": {},
     "output_type": "execute_result"
    },
    {
     "data": {
      "image/png": "[encoded data removed]",
      "text/plain": [
       "<Figure size 432x288 with 1 Axes>"
      ]
     },
     "metadata": {
      "needs_background": "light"
     },
     "output_type": "display_data"
    }
   ],
   "source": [
    "x = np.linspace(0, 1)\n",
    "plt.plot(x, distance2vote(x))\n",
    "plt.xlabel('Расстояние до соседа')\n",
    "plt.ylabel('Вес голоса соседа')\n",
    "plt.title('Функция взвешивания соседей')"
   ]
  },
  {
   "cell_type": "code",
   "execution_count": 34,
   "metadata": {},
   "outputs": [
    {
     "data": {
      "application/vnd.jupyter.widget-view+json": {
       "model_id": "1ff173d204794b2dbe79e71e29727dea",
       "version_major": 2,
       "version_minor": 0
      },
      "text/plain": [
       "  0%|          | 0/59905 [00:00<?, ?it/s]"
      ]
     },
     "metadata": {},
     "output_type": "display_data"
    }
   ],
   "source": [
    "words, vectors, synset_ids = [], [], []\n",
    "\n",
    "for synset in tqdm(wn.synsets):\n",
    "    if synset.part_of_speech != 'V':\n",
    "        continue\n",
    "    for sense in synset.senses:\n",
    "        words.append(sense.name)\n",
    "        vectors.append(vectorize(sense.name))\n",
    "        synset_ids.append(synset.id)\n",
    "        \n",
    "vectors = np.stack(vectors)"
   ]
  },
  {
   "cell_type": "code",
   "execution_count": 35,
   "metadata": {},
   "outputs": [],
   "source": [
    "tree = KDTree(vectors)"
   ]
  },
  {
   "cell_type": "code",
   "execution_count": 36,
   "metadata": {},
   "outputs": [
    {
     "name": "stdout",
     "output_type": "stream",
     "text": [
      "Topic #0: средства средство деньги\n",
      "Label: средства\n",
      "1.2761689547648103 ПЛАТИТЬ (ОТДАВАТЬ ДЕНЬГИ)\n",
      "0.8469282643244785 ИСТРАТИТЬ, ИЗРАСХОДОВАТЬ\n",
      "0.42924069044033175 ЗАНЯТИЕ, ДЕЯТЕЛЬНОСТЬ\n",
      "0.42924069044033175 ДЕЙСТВИЕ, ЦЕЛЕНАПРАВЛЕННОЕ ДЕЙСТВИЕ\n",
      "0.42924069044033175 ПОСРЕДНИЧЕСКАЯ ДЕЯТЕЛЬНОСТЬ\n",
      "\n",
      "\n",
      "Label: средство\n",
      "0.637629079091071 РАЗМЕСТИТЬСЯ\n",
      "0.637629079091071 ВОЙТИ ВНУТРЬ\n",
      "0.27123867799409945 ПОМЕСТИТЬ, НАЙТИ МЕСТО\n",
      "\n",
      "\n",
      "Label: деньги\n",
      "0.3767488976190605 ОТДАТЬ, ДАТЬ, ПРЕДОСТАВИТЬ\n",
      "0.32666473543600033 ВЛОЖЕНИЕ ФИНАНСОВЫХ СРЕДСТВ\n",
      "0.3217244288173349 КОЛЛЕКЦИОНИРОВАНИЕ\n",
      "\n",
      "\n",
      "Topic #1: суд статья суд\n",
      "Label: суд\n",
      "0.7875446832196096 ВЫНЕСТИ СУДЕБНОЕ РЕШЕНИЕ\n",
      "0.37007637630981854 СЧИТАТЬ, ПРИЗНАВАТЬ КЕМ, ЧЕМ-ЛИБО\n",
      "0.32129119626804264 ВЫСКАЗАТЬ\n",
      "\n",
      "\n",
      "Label: статья\n",
      "0.07015702485075766 ИСПРАВИТЬ НЕДОСТАТКИ, ОШИБКИ\n",
      "0.03974282648986441 КВАЛИФИКАЦИЯ ПРЕСТУПЛЕНИЯ\n",
      "\n",
      "\n",
      "Label: суд\n",
      "0.7875446832196096 ВЫНЕСТИ СУДЕБНОЕ РЕШЕНИЕ\n",
      "0.37007637630981854 СЧИТАТЬ, ПРИЗНАВАТЬ КЕМ, ЧЕМ-ЛИБО\n",
      "0.32129119626804264 ВЫСКАЗАТЬ\n",
      "\n",
      "\n",
      "Topic #2: ст закона дней\n",
      "Label: ст\n",
      "Label: закона\n",
      "0.12473634593776163 НАРУШЕНИЕ ПРАВИЛ\n"
     ]
    },
    {
     "name": "stderr",
     "output_type": "stream",
     "text": [
      "C:\\conda\\lib\\site-packages\\numpy\\core\\fromnumeric.py:3440: RuntimeWarning: Mean of empty slice.\n",
      "  return _methods._mean(a, axis=axis, dtype=dtype,\n",
      "C:\\conda\\lib\\site-packages\\numpy\\core\\_methods.py:189: RuntimeWarning: invalid value encountered in double_scalars\n",
      "  ret = ret.dtype.type(ret / rcount)\n",
      "C:\\conda\\lib\\site-packages\\numpy\\core\\fromnumeric.py:3440: RuntimeWarning: Mean of empty slice.\n",
      "  return _methods._mean(a, axis=axis, dtype=dtype,\n",
      "C:\\conda\\lib\\site-packages\\numpy\\core\\_methods.py:189: RuntimeWarning: invalid value encountered in double_scalars\n",
      "  ret = ret.dtype.type(ret / rcount)\n"
     ]
    },
    {
     "name": "stdout",
     "output_type": "stream",
     "text": [
      "0.09820764103480169 ПРАВОНАРУШЕНИЕ\n",
      "\n",
      "\n",
      "Label: дней\n",
      "0.017686444466518365 ПРОЙТИ (ПРЕКРАТИТЬСЯ О ВРЕМЕНИ, ДЛЯЩЕМСЯ)\n",
      "0.017686444466518365 ТЕЧЕНИЕ ВРЕМЕНИ\n",
      "0.013482880864292932 ПРОПАСТЬ КУДА-ТО\n",
      "\n",
      "\n",
      "Topic #3: ст года дней\n",
      "Label: ст\n",
      "Label: года\n",
      "0.04122334272743351 ОСТАВИТЬ В ПРЕЖНЕМ СОСТОЯНИИ\n",
      "0.016719104775333615 ОТНОШЕНИЕ МЕЖДУ СУЩНОСТЯМИ\n",
      "0.016719104775333615 ЗАВИСИМОСТЬ (ОТНОШЕНИЕ)\n",
      "\n",
      "\n",
      "Label: дней\n",
      "0.017686444466518365 ПРОЙТИ (ПРЕКРАТИТЬСЯ О ВРЕМЕНИ, ДЛЯЩЕМСЯ)\n",
      "0.017686444466518365 ТЕЧЕНИЕ ВРЕМЕНИ\n",
      "0.013482880864292932 ПРОПАСТЬ КУДА-ТО\n",
      "\n",
      "\n",
      "Topic #4: пункт пункты лица\n",
      "Label: пункт\n",
      "0.46769972139440363 ИСПРАВИТЬ НЕДОСТАТКИ, ОШИБКИ\n",
      "\n",
      "\n",
      "Label: пункты\n",
      "0.05316665979532616 ИСПРАВИТЬ НЕДОСТАТКИ, ОШИБКИ\n",
      "\n",
      "\n",
      "Label: лица\n",
      "0.4110997209230913 УНИЧТОЖИТЬ, ПРЕКРАТИТЬ СУЩЕСТВОВАНИЕ\n",
      "0.4110997209230913 УБИТЬ, ЛИШИТЬ ЖИЗНИ\n",
      "\n",
      "\n",
      "Topic #5: года сна года\n",
      "Label: года\n",
      "0.04122334272743351 ОСТАВИТЬ В ПРЕЖНЕМ СОСТОЯНИИ\n",
      "0.016719104775333615 ОТНОШЕНИЕ МЕЖДУ СУЩНОСТЯМИ\n",
      "0.016719104775333615 ЗАВИСИМОСТЬ (ОТНОШЕНИЕ)\n",
      "\n",
      "\n",
      "Label: сна\n",
      "0.8228082433330003 ПЕРЕСТАТЬ, ПРЕКРАТИТЬ (ЧТО-ТО ДЕЛАТЬ)\n",
      "0.8228082433330003 ВЫЙТИ ИЗ СОСТОЯНИЯ\n",
      "0.8228082433330003 ИЗМЕНЕНИЕ СОСТОЯНИЯ\n",
      "\n",
      "\n",
      "Label: года\n",
      "0.04122334272743351 ОСТАВИТЬ В ПРЕЖНЕМ СОСТОЯНИИ\n",
      "0.016719104775333615 ОТНОШЕНИЕ МЕЖДУ СУЩНОСТЯМИ\n",
      "0.016719104775333615 ЗАВИСИМОСТЬ (ОТНОШЕНИЕ)\n",
      "\n",
      "\n",
      "Topic #6: пункта пункты пункт\n",
      "Label: пункта\n",
      "0.07674306625506722 ИСПРАВИТЬ НЕДОСТАТКИ, ОШИБКИ\n",
      "\n",
      "\n",
      "Label: пункты\n",
      "0.05316665979532616 ИСПРАВИТЬ НЕДОСТАТКИ, ОШИБКИ\n",
      "\n",
      "\n",
      "Label: пункт\n",
      "0.46769972139440363 ИСПРАВИТЬ НЕДОСТАТКИ, ОШИБКИ\n",
      "\n",
      "\n",
      "Topic #7: закона законов судебник\n",
      "Label: закона\n",
      "0.12473634593776163 НАРУШЕНИЕ ПРАВИЛ\n",
      "0.09820764103480169 ПРАВОНАРУШЕНИЕ\n",
      "\n",
      "\n",
      "Label: законов\n",
      "0.09023901681108545 ЗАНЯТИЕ, ДЕЯТЕЛЬНОСТЬ\n",
      "0.07420635160597552 ПРАВОНАРУШЕНИЕ\n",
      "\n",
      "\n",
      "Label: судебник\n",
      "0.08580824563295887 ОБЖАЛОВАНИЕ РЕШЕНИЯ\n",
      "0.08580824563295887 ОБРАЩЕНИЕ В СУД\n",
      "0.0634045725424856 ДЕЙСТВИЕ, ЦЕЛЕНАПРАВЛЕННОЕ ДЕЙСТВИЕ\n",
      "0.0634045725424856 ПОДАЧА ДОКУМЕНТОВ\n",
      "0.06119103423274563 ОСПОРИТЬ (ОБЪЯВИТЬ СПОРНЫМ, ЗАЯВИТЬ СВОЕ НЕСОГЛАСИЕ)\n",
      "\n",
      "\n",
      "Topic #8: лица лиця лицей\n",
      "Label: лица\n",
      "0.4110997209230913 УНИЧТОЖИТЬ, ПРЕКРАТИТЬ СУЩЕСТВОВАНИЕ\n",
      "0.4110997209230913 УБИТЬ, ЛИШИТЬ ЖИЗНИ\n",
      "\n",
      "\n",
      "Label: лиця\n",
      "0.05183915843581155 РЕГИСТРАЦИЯ\n",
      "0.019443514528136547 ГРИМАСНИЧАТЬ, ДЕЛАТЬ ГРИМАСЫ\n",
      "\n",
      "\n",
      "Label: лицей\n",
      "0.016457686062131733 НАЧАТЬ, ПРИСТУПИТЬ, ПРИНЯТЬСЯ\n",
      "0.01462292767158434 ОБЕРЕГАТЬ, ЗАЩИЩАТЬ\n",
      "0.01462292767158434 ПОКРОВИТЕЛЬСТВО (ЗАЩИТА, ЗАСТУПНИЧЕСТВО)\n",
      "0.01433607376821216 ЗАНЯТИЕ, ДЕЯТЕЛЬНОСТЬ\n",
      "0.01433607376821216 ИСПОЛНИТЬ (ВОСПРОИЗВЕСТИ)\n",
      "\n",
      "\n",
      "Topic #9: средств содержан цль\n",
      "Label: средств\n",
      "0.2634013673100815 НЕДОСТАТОК, НЕДОСТАТОЧНОЕ КОЛИЧЕСТВО\n",
      "0.23336132535764434 ВЫСЧИТАТЬ, ВЫЧЕСТЬ\n",
      "\n",
      "\n",
      "Label: содержан\n",
      "0.04300385033723868 СУЩЕСТВОВАТЬ, БЫТЬ, ИМЕТЬСЯ\n",
      "0.04300385033723868 ОТДАТЬ, ДАТЬ, ПРЕДОСТАВИТЬ\n",
      "0.04300385033723868 НАХОДИТЬСЯ, ПРЕБЫВАТЬ\n",
      "\n",
      "\n",
      "Label: цль\n",
      "0.0020618452745134338 ПОКРЫТЬСЯ НА ПОВЕРХНОСТИ\n",
      "0.000981888182781254 НЕСЧАСТЬЕ\n",
      "0.000981888182781254 ОПОЛЗЕНЬ\n",
      "\n",
      "\n"
     ]
    }
   ],
   "source": [
    "for theme_id, labels_set in enumerate(labels):\n",
    "    print(f'Topic #{theme_id}: {labels_set}')\n",
    "    for label in labels_set.split(' '):\n",
    "        print(f'Label: {label}')\n",
    "        votes = Counter()\n",
    "        try:\n",
    "            dists, ids = tree.query(vectorize(label).reshape(1, -1), k=3)\n",
    "        except:\n",
    "            continue\n",
    "        for idx, distance in zip(ids[0], dists[0]):\n",
    "            for hyper in wn[synset_ids[idx]].hypernyms:\n",
    "                votes[hyper.id] += distance2vote(distance)\n",
    "        for sid, score in votes.most_common(5):\n",
    "            print(score,  wn[sid].title)\n",
    "\n",
    "        print('\\n')"
   ]
  },
  {
   "cell_type": "code",
   "execution_count": null,
   "metadata": {},
   "outputs": [],
   "source": [
    "word = str(input())\n",
    "\n",
    "votes = Counter()\n",
    "dists, ids = tree.query(vectorize(word).reshape(1, -1), k=10)\n",
    "for idx, distance in zip(ids[0], dists[0]):\n",
    "    for hyper in wn[synset_ids[idx]].hypernyms:\n",
    "        votes[hyper.id] += distance2vote(distance)\n",
    "    print(words[idx], [t.title for t in wn[synset_ids[idx]].hypernyms])"
   ]
  },
  {
   "cell_type": "code",
   "execution_count": null,
   "metadata": {},
   "outputs": [],
   "source": [
    "with open('text_10_words.txt', 'w') as w:\n",
    "    for t in topics_10_words:\n",
    "        w.write(str(t))\n",
    "        w.write('\\n')"
   ]
  }
 ],
 "metadata": {
  "colab": {
   "provenance": []
  },
  "gpuClass": "standard",
  "kernelspec": {
   "display_name": "Python 3",
   "language": "python",
   "name": "python3"
  },
  "language_info": {
   "codemirror_mode": {
    "name": "ipython",
    "version": 3
   },
   "file_extension": ".py",
   "mimetype": "text/x-python",
   "name": "python",
   "nbconvert_exporter": "python",
   "pygments_lexer": "ipython3",
   "version": "3.8.8"
  },
  "widgets": {
   "application/vnd.jupyter.widget-state+json": {
    "27f5f7cc2a6b4f13b9b07081d6c471c0": {
     "model_module": "@jupyter-widgets/base",
     "model_module_version": "1.2.0",
     "model_name": "LayoutModel",
     "state": {
      "_model_module": "@jupyter-widgets/base",
      "_model_module_version": "1.2.0",
      "_model_name": "LayoutModel",
      "_view_count": null,
      "_view_module": "@jupyter-widgets/base",
      "_view_module_version": "1.2.0",
      "_view_name": "LayoutView",
      "align_content": null,
      "align_items": null,
      "align_self": null,
      "border": null,
      "bottom": null,
      "display": null,
      "flex": null,
      "flex_flow": null,
      "grid_area": null,
      "grid_auto_columns": null,
      "grid_auto_flow": null,
      "grid_auto_rows": null,
      "grid_column": null,
      "grid_gap": null,
      "grid_row": null,
      "grid_template_areas": null,
      "grid_template_columns": null,
      "grid_template_rows": null,
      "height": null,
      "justify_content": null,
      "justify_items": null,
      "left": null,
      "margin": null,
      "max_height": null,
      "max_width": null,
      "min_height": null,
      "min_width": null,
      "object_fit": null,
      "object_position": null,
      "order": null,
      "overflow": null,
      "overflow_x": null,
      "overflow_y": null,
      "padding": null,
      "right": null,
      "top": null,
      "visibility": null,
      "width": "20px"
     }
    },
    "38c8cf876f5c47e0a29a4bdc44793b37": {
     "model_module": "@jupyter-widgets/controls",
     "model_module_version": "1.5.0",
     "model_name": "DescriptionStyleModel",
     "state": {
      "_model_module": "@jupyter-widgets/controls",
      "_model_module_version": "1.5.0",
      "_model_name": "DescriptionStyleModel",
      "_view_count": null,
      "_view_module": "@jupyter-widgets/base",
      "_view_module_version": "1.2.0",
      "_view_name": "StyleView",
      "description_width": ""
     }
    },
    "626423adcc424905b7489317304e270b": {
     "model_module": "@jupyter-widgets/controls",
     "model_module_version": "1.5.0",
     "model_name": "HTMLModel",
     "state": {
      "_dom_classes": [],
      "_model_module": "@jupyter-widgets/controls",
      "_model_module_version": "1.5.0",
      "_model_name": "HTMLModel",
      "_view_count": null,
      "_view_module": "@jupyter-widgets/controls",
      "_view_module_version": "1.5.0",
      "_view_name": "HTMLView",
      "description": "",
      "description_tooltip": null,
      "layout": "IPY_MODEL_d1369fb8bf5045ceb829b662cc7b1f4e",
      "placeholder": "​",
      "style": "IPY_MODEL_38c8cf876f5c47e0a29a4bdc44793b37",
      "value": ""
     }
    },
    "6cacb7df7e2e40abb45254a580c0dab8": {
     "model_module": "@jupyter-widgets/controls",
     "model_module_version": "1.5.0",
     "model_name": "FloatProgressModel",
     "state": {
      "_dom_classes": [],
      "_model_module": "@jupyter-widgets/controls",
      "_model_module_version": "1.5.0",
      "_model_name": "FloatProgressModel",
      "_view_count": null,
      "_view_module": "@jupyter-widgets/controls",
      "_view_module_version": "1.5.0",
      "_view_name": "ProgressView",
      "bar_style": "success",
      "description": "",
      "description_tooltip": null,
      "layout": "IPY_MODEL_27f5f7cc2a6b4f13b9b07081d6c471c0",
      "max": 1,
      "min": 0,
      "orientation": "horizontal",
      "style": "IPY_MODEL_f38204c561d14ea6b3353a8050780436",
      "value": 1
     }
    },
    "7ad5fa5dfc84437fb5b70204d46e3d68": {
     "model_module": "@jupyter-widgets/controls",
     "model_module_version": "1.5.0",
     "model_name": "DescriptionStyleModel",
     "state": {
      "_model_module": "@jupyter-widgets/controls",
      "_model_module_version": "1.5.0",
      "_model_name": "DescriptionStyleModel",
      "_view_count": null,
      "_view_module": "@jupyter-widgets/base",
      "_view_module_version": "1.2.0",
      "_view_name": "StyleView",
      "description_width": ""
     }
    },
    "a5aff114ae4744b1b718acce1b4d487a": {
     "model_module": "@jupyter-widgets/base",
     "model_module_version": "1.2.0",
     "model_name": "LayoutModel",
     "state": {
      "_model_module": "@jupyter-widgets/base",
      "_model_module_version": "1.2.0",
      "_model_name": "LayoutModel",
      "_view_count": null,
      "_view_module": "@jupyter-widgets/base",
      "_view_module_version": "1.2.0",
      "_view_name": "LayoutView",
      "align_content": null,
      "align_items": null,
      "align_self": null,
      "border": null,
      "bottom": null,
      "display": null,
      "flex": null,
      "flex_flow": null,
      "grid_area": null,
      "grid_auto_columns": null,
      "grid_auto_flow": null,
      "grid_auto_rows": null,
      "grid_column": null,
      "grid_gap": null,
      "grid_row": null,
      "grid_template_areas": null,
      "grid_template_columns": null,
      "grid_template_rows": null,
      "height": null,
      "justify_content": null,
      "justify_items": null,
      "left": null,
      "margin": null,
      "max_height": null,
      "max_width": null,
      "min_height": null,
      "min_width": null,
      "object_fit": null,
      "object_position": null,
      "order": null,
      "overflow": null,
      "overflow_x": null,
      "overflow_y": null,
      "padding": null,
      "right": null,
      "top": null,
      "visibility": null,
      "width": null
     }
    },
    "a97ef194c5ae4ef896c6ce91ba666942": {
     "model_module": "@jupyter-widgets/controls",
     "model_module_version": "1.5.0",
     "model_name": "HBoxModel",
     "state": {
      "_dom_classes": [],
      "_model_module": "@jupyter-widgets/controls",
      "_model_module_version": "1.5.0",
      "_model_name": "HBoxModel",
      "_view_count": null,
      "_view_module": "@jupyter-widgets/controls",
      "_view_module_version": "1.5.0",
      "_view_name": "HBoxView",
      "box_style": "",
      "children": [
       "IPY_MODEL_626423adcc424905b7489317304e270b",
       "IPY_MODEL_6cacb7df7e2e40abb45254a580c0dab8",
       "IPY_MODEL_cb62ec04672349198b7b08e26bbb1dca"
      ],
      "layout": "IPY_MODEL_b2622afca29a43ee97535d0f09b1a527"
     }
    },
    "b2622afca29a43ee97535d0f09b1a527": {
     "model_module": "@jupyter-widgets/base",
     "model_module_version": "1.2.0",
     "model_name": "LayoutModel",
     "state": {
      "_model_module": "@jupyter-widgets/base",
      "_model_module_version": "1.2.0",
      "_model_name": "LayoutModel",
      "_view_count": null,
      "_view_module": "@jupyter-widgets/base",
      "_view_module_version": "1.2.0",
      "_view_name": "LayoutView",
      "align_content": null,
      "align_items": null,
      "align_self": null,
      "border": null,
      "bottom": null,
      "display": null,
      "flex": null,
      "flex_flow": null,
      "grid_area": null,
      "grid_auto_columns": null,
      "grid_auto_flow": null,
      "grid_auto_rows": null,
      "grid_column": null,
      "grid_gap": null,
      "grid_row": null,
      "grid_template_areas": null,
      "grid_template_columns": null,
      "grid_template_rows": null,
      "height": null,
      "justify_content": null,
      "justify_items": null,
      "left": null,
      "margin": null,
      "max_height": null,
      "max_width": null,
      "min_height": null,
      "min_width": null,
      "object_fit": null,
      "object_position": null,
      "order": null,
      "overflow": null,
      "overflow_x": null,
      "overflow_y": null,
      "padding": null,
      "right": null,
      "top": null,
      "visibility": null,
      "width": null
     }
    },
    "cb62ec04672349198b7b08e26bbb1dca": {
     "model_module": "@jupyter-widgets/controls",
     "model_module_version": "1.5.0",
     "model_name": "HTMLModel",
     "state": {
      "_dom_classes": [],
      "_model_module": "@jupyter-widgets/controls",
      "_model_module_version": "1.5.0",
      "_model_name": "HTMLModel",
      "_view_count": null,
      "_view_module": "@jupyter-widgets/controls",
      "_view_module_version": "1.5.0",
      "_view_name": "HTMLView",
      "description": "",
      "description_tooltip": null,
      "layout": "IPY_MODEL_a5aff114ae4744b1b718acce1b4d487a",
      "placeholder": "​",
      "style": "IPY_MODEL_7ad5fa5dfc84437fb5b70204d46e3d68",
      "value": " 7380/? [02:02&lt;00:00, 68.38it/s]"
     }
    },
    "d1369fb8bf5045ceb829b662cc7b1f4e": {
     "model_module": "@jupyter-widgets/base",
     "model_module_version": "1.2.0",
     "model_name": "LayoutModel",
     "state": {
      "_model_module": "@jupyter-widgets/base",
      "_model_module_version": "1.2.0",
      "_model_name": "LayoutModel",
      "_view_count": null,
      "_view_module": "@jupyter-widgets/base",
      "_view_module_version": "1.2.0",
      "_view_name": "LayoutView",
      "align_content": null,
      "align_items": null,
      "align_self": null,
      "border": null,
      "bottom": null,
      "display": null,
      "flex": null,
      "flex_flow": null,
      "grid_area": null,
      "grid_auto_columns": null,
      "grid_auto_flow": null,
      "grid_auto_rows": null,
      "grid_column": null,
      "grid_gap": null,
      "grid_row": null,
      "grid_template_areas": null,
      "grid_template_columns": null,
      "grid_template_rows": null,
      "height": null,
      "justify_content": null,
      "justify_items": null,
      "left": null,
      "margin": null,
      "max_height": null,
      "max_width": null,
      "min_height": null,
      "min_width": null,
      "object_fit": null,
      "object_position": null,
      "order": null,
      "overflow": null,
      "overflow_x": null,
      "overflow_y": null,
      "padding": null,
      "right": null,
      "top": null,
      "visibility": null,
      "width": null
     }
    },
    "f38204c561d14ea6b3353a8050780436": {
     "model_module": "@jupyter-widgets/controls",
     "model_module_version": "1.5.0",
     "model_name": "ProgressStyleModel",
     "state": {
      "_model_module": "@jupyter-widgets/controls",
      "_model_module_version": "1.5.0",
      "_model_name": "ProgressStyleModel",
      "_view_count": null,
      "_view_module": "@jupyter-widgets/base",
      "_view_module_version": "1.2.0",
      "_view_name": "StyleView",
      "bar_color": null,
      "description_width": ""
     }
    }
   }
  }
 },
 "nbformat": 4,
 "nbformat_minor": 1
}
